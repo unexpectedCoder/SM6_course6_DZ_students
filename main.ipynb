{
 "cells": [
  {
   "cell_type": "markdown",
   "metadata": {},
   "source": [
    "# Домашнее задание по курсу \"Компьютерное моделирование\"\n",
    "---\n",
    "\n",
    "## \"Скелет\" кода\n",
    "\n",
    "Этот набросок кода лишь рекомендация и одна из возможностей разбиения программы на функции."
   ]
  },
  {
   "cell_type": "markdown",
   "metadata": {},
   "source": [
    "### Необходимые библиотеки"
   ]
  },
  {
   "cell_type": "code",
   "execution_count": null,
   "metadata": {},
   "outputs": [],
   "source": [
    "from dataclasses import dataclass\n",
    "from numpy import *\n",
    "import matplotlib.pyplot as plt"
   ]
  },
  {
   "cell_type": "markdown",
   "metadata": {},
   "source": [
    "### Вспомогательные структуры данных"
   ]
  },
  {
   "cell_type": "code",
   "execution_count": null,
   "metadata": {},
   "outputs": [],
   "source": [
    "@dataclass(frozen=True)\n",
    "class LBEParams:\n",
    "    \"\"\"Хранит исходные данные, необходимые для решателя.\n",
    "    \n",
    "    `Re`: число Рейнольдса.\n",
    "    `nx` и `ny`: размеры сетки.\\\\\n",
    "    и так далее...\n",
    "    \"\"\"\n",
    "    Re: float = 180.0\n",
    "    nx: int = 420\n",
    "    ny: int = 180\n",
    "    # TODO: ...\n",
    "\n",
    "\n",
    "@dataclass(frozen=True)\n",
    "class Obstacle:\n",
    "    \"\"\"Хранит параметры препятствия.\"\"\"\n",
    "    pass\n",
    "\n",
    "\n",
    "class Visualizer:\n",
    "    \"\"\"Отвечает за визуализацию результатов.\"\"\"\n",
    "\n",
    "    def __init__(self, name: str):\n",
    "        self.fig, self.ax = plt.subplots(num=name)\n",
    "        self.name = name\n",
    "\n",
    "    def plot_data(self, iteration: int, data: ndarray, save_dir: str, **kw):\n",
    "        \"\"\"Построить график данных `data`.\n",
    "        \n",
    "        `iteration`: текущая итерация моделирования.\n",
    "        `save_dir`: директория сохранения изображений.\n",
    "        `**kw`: дополнительные параметры, как цветовая карта графика, заголовок и пр.\n",
    "        \"\"\"\n",
    "        # TODO: Ваша реализация\n",
    "        pass"
   ]
  },
  {
   "cell_type": "markdown",
   "metadata": {},
   "source": [
    "Пример оформления графика:\n",
    "\n",
    "![График](plot.png)"
   ]
  },
  {
   "cell_type": "markdown",
   "metadata": {},
   "source": [
    "### Класс решателя\n",
    "\n",
    "Метод `init_velo(...)` предназначен для начального возмущения векторов скоростей в узлах решётки (см. метод. указания, п. 6), например, по формуле\n",
    "\n",
    "$$\n",
    "v_{init} = u_{LB} + \\delta u_{LB}\n",
    "    = u_{LB} \\cdot \\left[\n",
    "        1 + 10^{-4} \\cdot \\sin\\left( \\cfrac{2\\pi}{n_y - 1} \\cdot y \\right)\n",
    "    \\right].\n",
    "$$\n",
    "\n",
    "Заданная в исходных данных скорость $u_{LB}$ направлена вдоль оси $Ox$.\n",
    "\n",
    "Метод `where_obstacle(...)` тривиален: узел принадлежит цилиндру, если если его координаты $(x; y)$ лежат внутри окружности, радиус и координаты центра которой известны."
   ]
  },
  {
   "cell_type": "code",
   "execution_count": null,
   "metadata": {},
   "outputs": [],
   "source": [
    "class LBESolver:\n",
    "    def __init__(self, params: LBEParams):\n",
    "        # TODO: Ваша реализация\n",
    "        # ...\n",
    "        self.speed_vis = Visualizer(r\"Скорость $\\|{\\bf u}\\|$\")\n",
    "        self.press_vis = Visualizer(r\"Давление $p$\")\n",
    "        self.dens_vis = Visualizer(r\"Плотность $\\rho$\")\n",
    "    \n",
    "    def where_obstacle(self, x, y):\n",
    "        \"\"\"Определить, какие узлы решётки принадлежат препятствию.\n",
    "        \n",
    "        ``x`` и ``y``: координаты узла.\n",
    "        \"\"\"\n",
    "        # TODO: Ваша реализация.\n",
    "        pass\n",
    "    \n",
    "    def init_velo(self, *args): # TODO: Ваши параметры\n",
    "        \"\"\"Инициализировать начальное возмущение скорости газа в узлах решётки.\"\"\"\n",
    "        # TODO: Ваша реализация\n",
    "        pass\n",
    "    \n",
    "    def solve(self, iters=100_000, n_pics=100):\n",
    "        \"\"\"Основной метод решателя.\n",
    "        \n",
    "        ``iters``: количество итераций расчёта.\n",
    "        `n_pics`: количество картинок, которое необходимо сохранить\n",
    "        через равные промежутки времени.\n",
    "        \"\"\"\n",
    "        # TODO: Ваша реализация согласно методическим указаниям (пункты 1-6)\n",
    "        for time in range(iters):\n",
    "            # TODO: пункт 7 методических указаний +\n",
    "            # + визуализация через каждые iters // n_pics\n",
    "            pass"
   ]
  },
  {
   "cell_type": "markdown",
   "metadata": {},
   "source": [
    "### Моделирование"
   ]
  },
  {
   "cell_type": "code",
   "execution_count": null,
   "metadata": {},
   "outputs": [],
   "source": [
    "# TODO: Инициализация ваших исходных данных\n",
    "params = LBEParams(...)\n",
    "# TODO: Инициализация решателя\n",
    "solver = LBESolver(params)\n",
    "# TODO: Решение задачи + визуализация\n",
    "# (графики обтекания желательно сразу сохранять картинками,\n",
    "# а не делать интерактивными и сохранять вручную)\n",
    "solver.solve(...)"
   ]
  },
  {
   "cell_type": "markdown",
   "metadata": {},
   "source": [
    "*Радость и окончательное оформление ДЗ...*"
   ]
  }
 ],
 "metadata": {
  "kernelspec": {
   "display_name": "Python 3.10.6 64-bit",
   "language": "python",
   "name": "python3"
  },
  "language_info": {
   "name": "python",
   "version": "3.10.6"
  },
  "orig_nbformat": 4,
  "vscode": {
   "interpreter": {
    "hash": "afb734500600fd355917ca529030176ea0ca205570884b88f2f6f7d791fd3fbe"
   }
  }
 },
 "nbformat": 4,
 "nbformat_minor": 2
}
